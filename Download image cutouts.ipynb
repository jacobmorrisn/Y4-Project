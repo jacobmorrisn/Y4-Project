{
 "cells": [
  {
   "cell_type": "code",
   "execution_count": 1,
   "metadata": {},
   "outputs": [],
   "source": [
    "import numpy as np\n",
    "import pandas as pd\n",
    "from astropy.io import fits\n",
    "import sys\n",
    "import os"
   ]
  },
  {
   "cell_type": "code",
   "execution_count": null,
   "metadata": {
    "scrolled": true
   },
   "outputs": [],
   "source": [
    "# Read data from fits table file\n",
    "filepath = '../../Data/CoNFIG/asu.fit'\n",
    "hdul = fits.open(filepath)\n",
    "data = hdul[1].data\n",
    "hdul.close()"
   ]
  },
  {
   "cell_type": "code",
   "execution_count": 9,
   "metadata": {},
   "outputs": [
    {
     "data": {
      "text/plain": [
       "('22 17 32.3', '+09 49 20')"
      ]
     },
     "execution_count": 9,
     "metadata": {},
     "output_type": "execute_result"
    }
   ],
   "source": [
    "# Read data from '|' seperated file\n",
    "#filepath = '../../Data/CoNFIG/asu.tsv'\n",
    "#filepath = '../../Data/FRICAT/fr1.tsv'\n",
    "#filepath = '../../Data/FRIICAT/asu.tsv'\n",
    "#filepath = '../../Data/FRICAT/sfr1.tsv'\n",
    "#filepath = '../../Data/FR0CAT/asu.tsv'\n",
    "filepath = '../../Data/Garon 2017/matched.tsv'\n",
    "\n",
    "data = pd.read_csv(filepath, sep='|', header=None, skiprows=3)\n",
    "data = np.array(data)\n",
    "#data = data[3623:,:] # some data downloaded with arc_size=2.5... so redownload that data\n",
    "\n",
    "coords = data[:,0]\n",
    "ra, dec = np.empty_like(coords), np.empty_like(coords)\n",
    "# for i, coord in enumerate(coords):\n",
    "#     ra[i] = coord[1:3]+' '+coord[3:5]+' '+coord[5:10]\n",
    "#     dec[i] = coord[10:13]+' '+coord[13:15]+' '+coord[15:]\n",
    "for i, coord in enumerate(coords):\n",
    "    ra[i] = coord[1:3]+' '+coord[3:5]+' '+coord[5:9]\n",
    "    dec[i] = coord[9:12]+' '+coord[12:14]+' '+coord[14:]\n",
    "# ra, dec = data[:,0], data[:,1]\n",
    "# ra, dec = data[:,3], data[:,4]\n",
    "ra[3622], dec[3622] # missing ra and dec from first cutout server"
   ]
  },
  {
   "cell_type": "code",
   "execution_count": 6,
   "metadata": {},
   "outputs": [
    {
     "name": "stdout",
     "output_type": "stream",
     "text": [
      "Percent: [##########] 100.000% downloading images\n",
      "100 images downloaded in 112.487 seconds\n",
      "[]\n"
     ]
    }
   ],
   "source": [
    "# Download FITS image files from FIRST cutout server\n",
    "from selenium import webdriver\n",
    "import time\n",
    "from selenium.common.exceptions import NoSuchElementException\n",
    "\n",
    "download_path = r'C:\\Users\\JakeM\\Google Drive\\University of Birmingham\\Year 4\\Project\\Data\\Garon 2017\\FIRST-matched'\n",
    "#download_path = r'C:\\Users\\JakeM\\Downloads'\n",
    "chrome_options = webdriver.ChromeOptions()\n",
    "prefs = {'download.default_directory' : download_path}\n",
    "chrome_options.add_experimental_option('prefs', prefs)\n",
    "driver = webdriver.Chrome(options=chrome_options)\n",
    "driver.maximize_window()\n",
    "\n",
    "# Get webpage that cutouts can be downloaded from\n",
    "driver.get(\"https://third.ucllnl.org/cgi-bin/firstcutout\")\n",
    "\n",
    "size_arcmin = 4.5\n",
    "imagesize = driver.find_element_by_name('ImageSize')\n",
    "driver.execute_script(\"arguments[0].value=arguments[1]\",imagesize,'{}'.format(size_arcmin))\n",
    "\n",
    "def update_progress(process, progress):\n",
    "    # Simple progress bar for long loops (e.g. data loading/augmentation)\n",
    "    block = int(round(10*progress))\n",
    "    text = \"\\rPercent: [{}] {:.3f}% {}\".format( \"#\"*block + \"-\"*(10-block), progress*100, process)\n",
    "    sys.stdout.write(text)\n",
    "    sys.stdout.flush()\n",
    "\n",
    "start_time = time.time()\n",
    "missing_indices = []\n",
    "for i in range(len(ra)):\n",
    "    try:\n",
    "        radec = driver.find_element_by_name('RA')\n",
    "        driver.execute_script(\"arguments[0].value=arguments[1]\",radec,\"{}\\t{}\".format(ra[i],dec[i]))\n",
    "        fits_file = driver.find_elements_by_name('ImageType')[2]\n",
    "        fits_file.click()\n",
    "        submit = driver.find_element_by_name('.submit')\n",
    "        submit.click()\n",
    "        #time.sleep(1)\n",
    "    except NoSuchElementException:\n",
    "        # Exception incase the input RA and dec are out of range of the database\n",
    "        # Resets the webpage and continues loop through remaining values\n",
    "        missing_indices.append(i)\n",
    "        driver.get(\"https://third.ucllnl.org/cgi-bin/firstcutout\")\n",
    "        time.sleep(3)\n",
    "        imagesize = driver.find_element_by_name('ImageSize')\n",
    "        driver.execute_script(\"arguments[0].value=arguments[1]\", imagesize, '{}'.format(size_arcmin))\n",
    "        continue\n",
    "    update_progress('downloading images', (i+1)/len(ra))\n",
    "    \n",
    "print()\n",
    "print('{} images downloaded in {:.3f} seconds'.format(len(ra), time.time()-start_time))\n",
    "print(missing_indices)"
   ]
  },
  {
   "cell_type": "code",
   "execution_count": 8,
   "metadata": {},
   "outputs": [
    {
     "name": "stdout",
     "output_type": "stream",
     "text": [
      "(3723, 10)\n",
      "3722\n"
     ]
    }
   ],
   "source": [
    "# Compare length of ra,dec array with number of downloaded images\n",
    "\n",
    "filepath = '../../Data/Garon 2017/matched.tsv'\n",
    "data = np.array(pd.read_csv(filepath, sep='|', header=None, skiprows=3))\n",
    "print(data.shape)\n",
    "\n",
    "download_path = r'C:\\Users\\JakeM\\Google Drive\\University of Birmingham\\Year 4\\Project\\Data\\Garon 2017\\FIRST-matched'\n",
    "print(len(os.listdir(download_path)))"
   ]
  },
  {
   "cell_type": "code",
   "execution_count": 146,
   "metadata": {},
   "outputs": [],
   "source": [
    "filepath = '../../Data/Proctor 2011/asu.tsv'\n",
    "data = pd.read_csv(filepath, sep='|', header=None, skiprows=3)\n",
    "data = np.array(data)\n",
    "\n",
    "ra, dec = data[:,1], data[:,2]\n",
    "\n",
    "# Seperate into tables 1-14 for each morph type\n",
    "table_ind = np.argwhere(data[:,8] != np.roll(data[:,8], 1)).flatten()\n",
    "#t1, t2, t3, t4, t5, t6, t7, t8, t9, t10, t11, t12, t13, t14\n",
    "tables = np.split(data, table_ind[1:])\n",
    "ra, dec = np.split(ra, table_ind[1:]), np.split(dec, table_ind[1:])"
   ]
  },
  {
   "cell_type": "code",
   "execution_count": 137,
   "metadata": {},
   "outputs": [],
   "source": [
    "def update_progress(process, progress):\n",
    "        # Simple progress bar for long loops (e.g. data loading/augmentation)\n",
    "        block = int(round(10*progress))\n",
    "        text = \"\\rPercent: [{}] {:.3f}% {}\".format( \"#\"*block + \"-\"*(10-block), progress*100, process)\n",
    "        sys.stdout.write(text)\n",
    "        sys.stdout.flush()\n",
    "\n",
    "def FIRST_download(download_path, ra, dec):\n",
    "    # Download FITS image files from FIRST cutout server\n",
    "    chrome_options = webdriver.ChromeOptions()\n",
    "    prefs = {'download.default_directory' : download_path}\n",
    "    chrome_options.add_experimental_option('prefs', prefs)\n",
    "    driver = webdriver.Chrome(options=chrome_options)\n",
    "    driver.maximize_window()\n",
    "\n",
    "    # Get webpage that cutouts can be downloaded from\n",
    "    driver.get(\"https://third.ucllnl.org/cgi-bin/firstcutout\")\n",
    "\n",
    "    size_arcmin = 4.5\n",
    "    imagesize = driver.find_element_by_name('ImageSize')\n",
    "    driver.execute_script(\"arguments[0].value=arguments[1]\",imagesize,'{}'.format(size_arcmin))\n",
    "\n",
    "    start_time = time.time()\n",
    "    for i in range(len(ra)):\n",
    "        try:\n",
    "            radec = driver.find_element_by_name('RA')\n",
    "            driver.execute_script(\"arguments[0].value=arguments[1]\",radec,\"{}\\t{}\".format(ra[i],dec[i]))\n",
    "            fits_file = driver.find_elements_by_name('ImageType')[2]\n",
    "            fits_file.click()\n",
    "            submit = driver.find_element_by_name('.submit')\n",
    "            submit.click()\n",
    "            #time.sleep(1)\n",
    "        except NoSuchElementException:\n",
    "            # Exception incase the input RA and dec are out of range of the database\n",
    "            # Resets the webpage and continues loop through remaining values\n",
    "            print ('Could not find element {}'.format(i))\n",
    "            driver.get(\"https://third.ucllnl.org/cgi-bin/firstcutout\")\n",
    "            time.sleep(3)\n",
    "            imagesize = driver.find_element_by_name('ImageSize')\n",
    "            driver.execute_script(\"arguments[0].value=arguments[1]\",imagesize,'2.5')\n",
    "            continue\n",
    "        update_progress('downloading images', (i+1)/len(ra))\n",
    "\n",
    "    print('{} images downloaded in {:.3f} seconds'.format(len(ra), time.time()-start_time))"
   ]
  },
  {
   "cell_type": "code",
   "execution_count": 138,
   "metadata": {},
   "outputs": [
    {
     "name": "stdout",
     "output_type": "stream",
     "text": [
      "Percent: [##########] 100.000% downloading images412 images downloaded in 336.514 seconds\n",
      "Percent: [##########] 100.000% downloading imagesAT, NAT147 images downloaded in 115.857 seconds\n",
      "Percent: [##########] 100.000% downloading images CJ45 images downloaded in 189.204 seconds\n",
      "Percent: [##########] 100.000% downloading images SZ33 images downloaded in 25.965 seconds\n",
      "Percent: [##########] 100.000% downloading images GRS65 images downloaded in 51.225 seconds\n",
      "Percent: [##########] 100.000% downloading images tri82 images downloaded in 65.664 seconds\n",
      "Percent: [##########] 100.000% downloading images QUAD28 images downloaded in 22.871 seconds\n",
      "Percent: [##########] 100.000% downloading imagesW156 images downloaded in 127.700 seconds\n",
      "Percent: [##########] 100.000% downloading imagesTB242 images downloaded in 201.600 seconds\n",
      "Percent: [##########] 100.000% downloading imagesB103 images downloaded in 83.864 seconds\n",
      "Percent: [##########] 100.000% downloading imagesRING400 images downloaded in 326.259 seconds\n",
      "Percent: [##########] 100.000% downloading imagesRing-lobe48 images downloaded in 38.294 seconds\n",
      "Percent: [##########] 100.000% downloading imagesHYMOR52 images downloaded in 42.837 seconds\n",
      "Percent: [##########] 100.000% downloading imagesX119 images downloaded in 95.063 seconds\n",
      "Percent: [##########] 100.000% downloading to 9 - DD"
     ]
    }
   ],
   "source": [
    "dir_path = r'C:\\Users\\JakeM\\Google Drive\\University of Birmingham\\Year 4\\Project\\Data\\Proctor 2011'\n",
    "folders = [d for d in os.listdir(dir_path) if os.path.isdir(os.path.join(dir_path,d))]\n",
    "\n",
    "for i, (ra_, dec_, folder) in enumerate(zip(ra, dec, folders)):\n",
    "    download_path = os.path.join(dir_path, folder)\n",
    "    update_progress('downloading to '+folder, (i+1)/len(folders))\n",
    "    FIRST_download(download_path, ra_, dec_)"
   ]
  },
  {
   "cell_type": "code",
   "execution_count": 154,
   "metadata": {},
   "outputs": [
    {
     "name": "stdout",
     "output_type": "stream",
     "text": [
      "412 1 - WAT, NAT \t\t 412\n",
      "103 10 - CJ \t\t 147\n",
      "400 11 - SZ \t\t 45\n",
      "48 12 - GRS \t\t 33\n",
      "52 13 - tri \t\t 65\n",
      "119 14 - QUAD \t\t 82\n",
      "147 2 - W \t\t 28\n",
      "45 3 - TB \t\t 156\n",
      "33 4 - B \t\t 242\n",
      "65 5 - RING \t\t 103\n",
      "82 6 - Ring-lobe \t\t 400\n",
      "28 7 - HYMOR \t\t 48\n",
      "156 8 - X \t\t 52\n",
      "242 9 - DD \t\t 119\n"
     ]
    }
   ],
   "source": [
    "for f, ra_ in zip(folders, ra):\n",
    "    print(len(os.listdir(os.path.join(dir_path,f))), f, '\\t\\t', len(ra_))"
   ]
  }
 ],
 "metadata": {
  "kernelspec": {
   "display_name": "Python 3",
   "language": "python",
   "name": "python3"
  },
  "language_info": {
   "codemirror_mode": {
    "name": "ipython",
    "version": 3
   },
   "file_extension": ".py",
   "mimetype": "text/x-python",
   "name": "python",
   "nbconvert_exporter": "python",
   "pygments_lexer": "ipython3",
   "version": "3.7.4"
  }
 },
 "nbformat": 4,
 "nbformat_minor": 2
}
