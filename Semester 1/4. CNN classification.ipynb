{
 "cells": [
  {
   "cell_type": "markdown",
   "metadata": {},
   "source": [
    "### Neural network"
   ]
  },
  {
   "cell_type": "code",
   "execution_count": 1,
   "metadata": {},
   "outputs": [
    {
     "name": "stderr",
     "output_type": "stream",
     "text": [
      "C:\\Users\\JakeM\\Anaconda3\\lib\\site-packages\\h5py\\__init__.py:36: FutureWarning: Conversion of the second argument of issubdtype from `float` to `np.floating` is deprecated. In future, it will be treated as `np.float64 == np.dtype(float).type`.\n",
      "  from ._conv import register_converters as _register_converters\n"
     ]
    }
   ],
   "source": [
    "import tensorflow as tf\n",
    "import numpy as np\n",
    "import os\n",
    "from astropy.io import fits \n",
    "from astropy import stats\n",
    "from scipy.ndimage import rotate\n",
    "import matplotlib.pyplot as plt"
   ]
  },
  {
   "cell_type": "code",
   "execution_count": 4,
   "metadata": {},
   "outputs": [],
   "source": [
    "def get_clipped_images(filepath,xpix,ypix,sigma):\n",
    "    '''\n",
    "    Put FITS data from desired folder into a 3D array\n",
    "    sigma = how many sigmas from the median background value to sigma clip the data to\n",
    "    \n",
    "    TODO: Need to check for .fits ending so works if other files in directory\n",
    "    '''\n",
    "    newpath = filepath.replace(os.sep, '/')\n",
    "    dirs = os.listdir(newpath)\n",
    "    n = len(dirs)\n",
    "    data = np.empty(shape=(n,xpix,ypix),dtype=np.float64)\n",
    "    for i in range(n):\n",
    "        fullpath = '{}/{}'.format(newpath,dirs[i])\n",
    "        d = fits.getdata(fullpath, ext=0)\n",
    "        d[np.isnan(d)] = 0\n",
    "        _,median,std = stats.sigma_clipped_stats(d, sigma=sigma)\n",
    "        d[d<median+sigma*std] = median+sigma*std\n",
    "        data[i,:,:] = d\n",
    "        #if i%100==0:\n",
    "            #print(i)\n",
    "    return data\n",
    "\n",
    "def augment_data(data,size,xpix,ypix):\n",
    "    '''\n",
    "    Augment the data (3D array of images) by flipping and rotating the images.\n",
    "    Size = upper bound on the final number of images \n",
    "    (actual_size can be much less depending on size/data_size multiples)\n",
    "    \n",
    "    TODO: Make the actual size = size\n",
    "    Make sure still works if size<len(data)\n",
    "    '''\n",
    "    rotations = size//len(data) # rotations per image\n",
    "    angles = np.linspace(0, 360, rotations)\n",
    "    act_size = rotations*len(data)\n",
    "    training_set = np.empty((act_size, xpix, ypix))\n",
    "    for i in range(len(data)):\n",
    "        for j in range(len(angles)):\n",
    "            if j % 2 == 0: training_set[i*len(angles)+j,:,:] = rotate(np.fliplr(data[i,:,:]), angles[j], reshape=False)\n",
    "            else: training_set[i*len(angles)+j,:,:] = rotate(data[i,:,:], angles[j], reshape=False)\n",
    "    return training_set\n",
    "\n",
    "def train_test(data,percentage):\n",
    "    '''\n",
    "    Combines data sets in one 3D array, with a different label for each data set.\n",
    "    Then randomly shuffles the data and splits into training and test sets.\n",
    "    data = list of 3D arrays containing desired data sets\n",
    "    per = fraction of data to be in training set\n",
    "    returns: train and test data (each a tupple containing the data and corresponding labels)\n",
    "    '''\n",
    "    d = np.concatenate(data,axis=0)\n",
    "    n_images = len(d)\n",
    "    labels = np.empty(n_images)\n",
    "    i = 0\n",
    "    for n in range(len(data)):\n",
    "        labels[i:i+len(data[n])] = n\n",
    "        i += len(data[n])\n",
    "    rand_ind = np.random.permutation(range(n_images))\n",
    "    d, labels = d[rand_ind], labels[rand_ind]\n",
    "    n_train = np.int(np.round(n_images*percentage))\n",
    "    train = (d[:n_train], labels[:n_train])\n",
    "    test = (d[n_train:], labels[n_train:])\n",
    "    return train, test"
   ]
  },
  {
   "cell_type": "code",
   "execution_count": 5,
   "metadata": {},
   "outputs": [],
   "source": [
    "# Number of x pixels and y pixels in each image (must be the same for all images)\n",
    "xpix, ypix = 83, 83\n",
    "\n",
    "# Directories with the FITS data\n",
    "agn_path = r'C:\\Users\\JakeM\\Google Drive\\University of Birmingham\\Year 4\\Project\\5. Code\\Data\\FITS agn'\n",
    "ps_path = r'C:\\Users\\JakeM\\Google Drive\\University of Birmingham\\Year 4\\Project\\5. Code\\Data\\FITS stars'\n",
    "\n",
    "# Get FITs images and augment data sets\n",
    "agn_data = get_clipped_images(agn_path,xpix,ypix,sigma=3)"
   ]
  },
  {
   "cell_type": "code",
   "execution_count": 5,
   "metadata": {},
   "outputs": [],
   "source": [
    "#np.save('agn_data', agn_data)"
   ]
  },
  {
   "cell_type": "code",
   "execution_count": 71,
   "metadata": {},
   "outputs": [],
   "source": [
    "ps_data = get_clipped_images(ps_path,xpix,ypix,sigma=1)\n",
    "agn_augment = augment_data(agn_data,10000,xpix,ypix)\n",
    "ps_augment = augment_data(ps_data,10000,xpix,ypix)\n",
    "\n",
    "data = (agn_augment, ps_augment) # list of all data sets to be used"
   ]
  },
  {
   "cell_type": "code",
   "execution_count": 72,
   "metadata": {},
   "outputs": [],
   "source": [
    "train, test = train_test(data,0.2) # training and test data, each in a tuple with data label array"
   ]
  },
  {
   "cell_type": "code",
   "execution_count": 73,
   "metadata": {},
   "outputs": [],
   "source": [
    "# Neural network\n",
    "model = tf.keras.models.Sequential([\n",
    "  tf.keras.layers.Flatten(input_shape=(xpix, ypix)),\n",
    "  tf.keras.layers.Dense(512, activation=tf.nn.relu),\n",
    "  tf.keras.layers.Dropout(0.3),\n",
    "  tf.keras.layers.Dense(10, activation=tf.nn.softmax)])\n",
    "    \n",
    "# Compile the network\n",
    "model.compile(optimizer='adam',\n",
    "              loss='sparse_categorical_crossentropy',\n",
    "              metrics=['accuracy'])"
   ]
  },
  {
   "cell_type": "code",
   "execution_count": 74,
   "metadata": {},
   "outputs": [
    {
     "name": "stdout",
     "output_type": "stream",
     "text": [
      "Train on 3483 samples\n",
      "Epoch 1/10\n",
      "3483/3483 [==============================] - 6s 2ms/sample - loss: 0.7933 - accuracy: 0.8200\n",
      "Epoch 2/10\n",
      "3483/3483 [==============================] - 3s 872us/sample - loss: 0.0433 - accuracy: 1.0000\n",
      "Epoch 3/10\n",
      "3483/3483 [==============================] - 3s 845us/sample - loss: 0.0118 - accuracy: 1.0000\n",
      "Epoch 4/10\n",
      "3483/3483 [==============================] - 3s 883us/sample - loss: 0.0058 - accuracy: 1.0000\n",
      "Epoch 5/10\n",
      "3483/3483 [==============================] - 3s 876us/sample - loss: 0.0037 - accuracy: 1.0000\n",
      "Epoch 6/10\n",
      "3483/3483 [==============================] - 3s 881us/sample - loss: 0.0024 - accuracy: 1.0000\n",
      "Epoch 7/10\n",
      "3483/3483 [==============================] - 3s 891us/sample - loss: 0.0018 - accuracy: 1.0000\n",
      "Epoch 8/10\n",
      "3483/3483 [==============================] - 3s 895us/sample - loss: 0.0014 - accuracy: 1.0000\n",
      "Epoch 9/10\n",
      "3483/3483 [==============================] - 3s 922us/sample - loss: 0.0011 - accuracy: 1.0000\n",
      "Epoch 10/10\n",
      "3483/3483 [==============================] - 3s 931us/sample - loss: 8.8564e-04 - accuracy: 1.0000\n",
      "13931/1 - 4s - loss: 0.0017 - accuracy: 0.9997\n",
      "\n",
      "Test accuracy: 0.9997129\n"
     ]
    }
   ],
   "source": [
    "# Perform fit\n",
    "model.fit(*train, epochs=10)\n",
    "test_loss, test_acc = model.evaluate(*test, verbose=2)\n",
    "print('\\nTest accuracy:', test_acc)"
   ]
  },
  {
   "cell_type": "markdown",
   "metadata": {},
   "source": [
    "Above shows can achieve 100% accruacy between point sources and AGN even with a simple neural net.\n",
    "\n",
    "### Classifying AGN with jet angle"
   ]
  },
  {
   "cell_type": "code",
   "execution_count": 6,
   "metadata": {},
   "outputs": [
    {
     "data": {
      "text/plain": [
       "(3723, 3712)"
      ]
     },
     "execution_count": 6,
     "metadata": {},
     "output_type": "execute_result"
    }
   ],
   "source": [
    "# Plot histogram of the angles of the AGN, using data given in VizieR data catalog\n",
    "# Need to get txt file with the angle in it, similar to RA and Dec txt file\n",
    "\n",
    "import pandas as pd\n",
    "\n",
    "path = r'C:\\Users\\JakeM\\Google Drive\\University of Birmingham\\Year 4\\Project\\5. Code\\Data\\agn bending angle.txt'\n",
    "agn_ang = np.array(pd.read_csv(path, sep='\\s+', header=None, usecols=[2])) # bending angle of agn, from vizier catalog\n",
    "len(agn_ang), len(agn_data)\n",
    "\n",
    "# Not the same length since some coords couldn't be downloaded... 'out of range of survey'\n",
    "# Need to be the same length for labelling...\n",
    "# So compare GaronAGN2019_RA_dec.txt coords with filename or coords in fits file to find which are missing\n",
    "# Or use download form..."
   ]
  },
  {
   "cell_type": "code",
   "execution_count": 7,
   "metadata": {},
   "outputs": [],
   "source": [
    "# Have to use RA in degrees (i.e. decimal) for correct comparison and rounding\n",
    "\n",
    "path = r'C:\\Users\\JakeM\\Google Drive\\University of Birmingham\\Year 4\\Project\\5. Code\\Data\\GaronAGN2019_RA_dec.txt'\n",
    "agn_ra = np.squeeze(np.array(pd.read_csv(path, sep='\\s+', header=None, usecols=[1])))\n",
    "agn_ra = np.around(agn_ra, 5)\n",
    "\n",
    "directory_path = r'C:\\Users\\JakeM\\Google Drive\\University of Birmingham\\Year 4\\Project\\5. Code\\Data\\FITS agn'\n",
    "files = [f for f in os.listdir(directory_path) if f.endswith('.fits')]\n",
    "\n",
    "files_ra = np.empty(len(files))\n",
    "for i in range(len(files)):\n",
    "    file_path = directory_path + '\\\\' + files[i]\n",
    "    ra = fits.getval(file_path, 'OBJCTRA')\n",
    "    hours, mins, secs = int(ra[:2]), int(ra[3:5]), float(ra[6:12])\n",
    "    ra_deg = (hours+mins/60+secs/3600)*(360/24) # convert RA from hh:mm:ss to degrees\n",
    "    ra_deg = round(ra_deg, 5)\n",
    "    files_ra[i] = ra_deg\n",
    "    \n",
    "missing_i = np.squeeze([np.argwhere(agn_ra==ra) for ra in agn_ra if ra not in files_ra])"
   ]
  },
  {
   "cell_type": "code",
   "execution_count": 8,
   "metadata": {},
   "outputs": [
    {
     "data": {
      "text/plain": [
       "(3712, 3712)"
      ]
     },
     "execution_count": 8,
     "metadata": {},
     "output_type": "execute_result"
    }
   ],
   "source": [
    "agn_ang = np.delete(agn_ang, missing_i)\n",
    "len(agn_ang), len(agn_data)"
   ]
  },
  {
   "cell_type": "code",
   "execution_count": 9,
   "metadata": {},
   "outputs": [],
   "source": [
    "#np.save('agn_ang', agn_ang)"
   ]
  },
  {
   "cell_type": "code",
   "execution_count": 10,
   "metadata": {},
   "outputs": [
    {
     "data": {
      "image/png": "[encoded data removed]",
      "text/plain": [
       "<Figure size 576x432 with 1 Axes>"
      ]
     },
     "metadata": {},
     "output_type": "display_data"
    }
   ],
   "source": [
    "plt.figure(figsize=(8,6))\n",
    "plt.hist(agn_ang, bins = 100, rwidth = 1)\n",
    "plt.show()"
   ]
  },
  {
   "cell_type": "code",
   "execution_count": 89,
   "metadata": {},
   "outputs": [],
   "source": [
    "# Define angle ranges for three different categories of AGN (choose limits to split data in thirds??)\n",
    "ang1 = 20\n",
    "ang2 = 45\n",
    "\n",
    "# Assign each image in agn_data a label depending on which angle range it is in\n",
    "labels = np.empty(len(agn_data))\n",
    "for i in range(len(agn_ang)):\n",
    "    if agn_ang[i] < ang1: labels[i] = 1\n",
    "    elif agn_ang[i] > ang2: labels[i] = 3\n",
    "    else: labels[i] = 2\n",
    "\n",
    "# Could achieve this in the above way with the original agn_data array retained, or seperate into 3 arrays for each cat.\n",
    "# Need to augment the data and have a label array for the augmented array.\n",
    "# Easy to achieve using defined functions if split into 3 arrays\n",
    "# This would also allow augmenting of each category individually which has benefits.\n",
    "\n",
    "# Was thinking could be more efficient to keep in array and augment along with labels\n",
    "# This would mean no need to concatenate the arrays of each data set / category..."
   ]
  },
  {
   "cell_type": "code",
   "execution_count": 90,
   "metadata": {},
   "outputs": [],
   "source": [
    "cat1 = agn_data[labels==1]\n",
    "cat2 = agn_data[labels==2]\n",
    "cat3 = agn_data[labels==3]"
   ]
  },
  {
   "cell_type": "code",
   "execution_count": 91,
   "metadata": {},
   "outputs": [],
   "source": [
    "# Augment the data\n",
    "data = [] # empty list\n",
    "for cat in (cat1,cat2,cat3):\n",
    "    data.append(augment_data(cat,10000,xpix,ypix))"
   ]
  },
  {
   "cell_type": "code",
   "execution_count": 92,
   "metadata": {},
   "outputs": [],
   "source": [
    "# Get training and test data and labels\n",
    "train, test = train_test(data, 0.8)"
   ]
  },
  {
   "cell_type": "code",
   "execution_count": 93,
   "metadata": {},
   "outputs": [],
   "source": [
    "# Neural network\n",
    "model = tf.keras.models.Sequential([\n",
    "  tf.keras.layers.Flatten(input_shape=(xpix, ypix)),\n",
    "  tf.keras.layers.Dense(512, activation=tf.nn.relu),\n",
    "  tf.keras.layers.Dropout(0.3),\n",
    "  tf.keras.layers.Dense(10, activation=tf.nn.softmax)])\n",
    "    \n",
    "# Compile the network\n",
    "model.compile(optimizer='adam',\n",
    "              loss='sparse_categorical_crossentropy',\n",
    "              metrics=['accuracy'])"
   ]
  },
  {
   "cell_type": "code",
   "execution_count": 94,
   "metadata": {},
   "outputs": [
    {
     "name": "stdout",
     "output_type": "stream",
     "text": [
      "Train on 22334 samples\n",
      "Epoch 1/10\n",
      "22334/22334 [==============================] - 22s 989us/sample - loss: 0.8556 - accuracy: 0.5868\n",
      "Epoch 2/10\n",
      "22334/22334 [==============================] - 21s 921us/sample - loss: 0.6980 - accuracy: 0.6581\n",
      "Epoch 3/10\n",
      "22334/22334 [==============================] - 21s 922us/sample - loss: 0.6549 - accuracy: 0.7103\n",
      "Epoch 4/10\n",
      "22334/22334 [==============================] - 21s 924us/sample - loss: 0.5989 - accuracy: 0.7710\n",
      "Epoch 5/10\n",
      "22334/22334 [==============================] - 21s 922us/sample - loss: 0.5389 - accuracy: 0.8153\n",
      "Epoch 6/10\n",
      "22334/22334 [==============================] - 21s 919us/sample - loss: 0.4809 - accuracy: 0.8465\n",
      "Epoch 7/10\n",
      "22334/22334 [==============================] - 21s 934us/sample - loss: 0.4339 - accuracy: 0.8625- loss: 0.4350 - \n",
      "Epoch 8/10\n",
      "22334/22334 [==============================] - 21s 918us/sample - loss: 0.3965 - accuracy: 0.8727\n",
      "Epoch 9/10\n",
      "22334/22334 [==============================] - 21s 919us/sample - loss: 0.3697 - accuracy: 0.8814\n",
      "Epoch 10/10\n",
      "22334/22334 [==============================] - 21s 921us/sample - loss: 0.3433 - accuracy: 0.8911\n",
      "5584/1 - 2s - loss: 0.2630 - accuracy: 0.8825\n",
      "\n",
      "Test accuracy: 0.8825215\n"
     ]
    }
   ],
   "source": [
    "# Perform fit\n",
    "model.fit(*train, epochs=10)\n",
    "test_loss, test_acc = model.evaluate(*test, verbose=2)\n",
    "print('\\nTest accuracy:', test_acc)"
   ]
  }
 ],
 "metadata": {
  "kernelspec": {
   "display_name": "Python 3",
   "language": "python",
   "name": "python3"
  },
  "language_info": {
   "codemirror_mode": {
    "name": "ipython",
    "version": 3
   },
   "file_extension": ".py",
   "mimetype": "text/x-python",
   "name": "python",
   "nbconvert_exporter": "python",
   "pygments_lexer": "ipython3",
   "version": "3.7.4"
  }
 },
 "nbformat": 4,
 "nbformat_minor": 2
}
