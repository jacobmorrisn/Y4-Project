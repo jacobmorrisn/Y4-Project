{
 "cells": [
  {
   "cell_type": "markdown",
   "metadata": {},
   "source": [
    "### Download image cutouts\n",
    "\n",
    "Images downloaded from FIRST cutout server.\n",
    "\n",
    "Catalogs used: FRICAT, FRIICAT, CoNFIG, Proctor (2011), Garon (2017)\n",
    "\n",
    "Each catalog downloaded from Vizier, and saved as a tsv file (Data separated by |). Source coordinates are loaded from the tsv files.\n",
    "\n",
    "Webscraping done using chromedriver. This needs to be downloaded to the path, and the version needs to match the version of chorme being used.\n",
    "\n",
    "Currently notebook is set to just view source gif instead of download to demonstrate how the code works. To download change labelled parameter in FIRST_download function."
   ]
  },
  {
   "cell_type": "code",
   "execution_count": 11,
   "metadata": {},
   "outputs": [],
   "source": [
    "import numpy as np\n",
    "import pandas as pd\n",
    "from astropy.io import fits\n",
    "import sys\n",
    "import os\n",
    "from selenium import webdriver\n",
    "import time\n",
    "from selenium.common.exceptions import NoSuchElementException"
   ]
  },
  {
   "cell_type": "code",
   "execution_count": 27,
   "metadata": {},
   "outputs": [],
   "source": [
    "# Functions for downloading images\n",
    "\n",
    "def update_progress(process, progress):\n",
    "    # Simple progress bar for long loops (e.g. data loading/augmentation)\n",
    "    block = int(round(10*progress))\n",
    "    text = \"\\rProgress: [{}] {:.3f}% {}\".format( \"#\"*block + \"-\"*(10-block), progress*100, process)\n",
    "    sys.stdout.write(text)\n",
    "    sys.stdout.flush()\n",
    "    \n",
    "def FIRST_download(ra, dec, download_path=None):\n",
    "    '''\n",
    "    Download FITS image files from FIRST cutout server.\n",
    "    download_path = optional image download path, if not specified downloads to default download directory\n",
    "    '''\n",
    "    \n",
    "    if not download_path:\n",
    "        chrome_options = webdriver.ChromeOptions()\n",
    "        prefs = {'download.default_directory' : download_path}\n",
    "        chrome_options.add_experimental_option('prefs', prefs)\n",
    "        driver = webdriver.Chrome(options=chrome_options)\n",
    "    else:\n",
    "        driver = webdriver.Chrome()\n",
    "    driver.maximize_window()\n",
    "\n",
    "    # Go to FIRST cutout server website\n",
    "    driver.get(\"https://third.ucllnl.org/cgi-bin/firstcutout\")\n",
    "\n",
    "    # Set image size for download (4.5' = 150x150)\n",
    "    size_arcmin = 4.5\n",
    "    imagesize = driver.find_element_by_name('ImageSize')\n",
    "    driver.execute_script(\"arguments[0].value=arguments[1]\",imagesize,'{}'.format(size_arcmin))\n",
    "\n",
    "    # Download all sources in ra, dec arrays\n",
    "    start_time = time.time()\n",
    "    for i in range(len(ra)):\n",
    "        try:\n",
    "            radec = driver.find_element_by_name('RA')\n",
    "            driver.execute_script(\"arguments[0].value=arguments[1]\",radec,\"{}\\t{}\".format(ra[i],dec[i]))\n",
    "            # 0 = view gif, 2 = download FITS file\n",
    "            fits_file = driver.find_elements_by_name('ImageType')[0] # 0 = view gif, 2 = download FITS file\n",
    "            fits_file.click()\n",
    "            submit = driver.find_element_by_name('.submit')\n",
    "            submit.click()\n",
    "            #time.sleep(1)\n",
    "        except NoSuchElementException:\n",
    "            # Exception raised if the input ra and dec are out of range of the database\n",
    "            # Resets the webpage and continues loop through remaining values\n",
    "            print ('Could not find element {}'.format(i))\n",
    "            driver.get(\"https://third.ucllnl.org/cgi-bin/firstcutout\")\n",
    "            time.sleep(3)\n",
    "            imagesize = driver.find_element_by_name('ImageSize')\n",
    "            driver.execute_script(\"arguments[0].value=arguments[1]\",imagesize,'{}'.format(size_arcmin))\n",
    "            continue\n",
    "        update_progress('downloading images', (i+1)/len(ra))\n",
    "\n",
    "    print('\\n{}/{} images downloaded in {:.3f} seconds'.format(len(ra)-len(missing_indices), len(ra), time.time()-start_time))\n",
    "    print('Missing images:', missing_indices)"
   ]
  },
  {
   "cell_type": "code",
   "execution_count": 29,
   "metadata": {},
   "outputs": [
    {
     "name": "stdout",
     "output_type": "stream",
     "text": [
      "Example (ra, dec) coords to pass into server: 00 03 31.218 +00 28 04.25\n"
     ]
    }
   ],
   "source": [
    "# Read data (i.e. source coords) from '|' seperated file\n",
    "\n",
    "# Choose catalog to download\n",
    "# 0: ConFIG, 1: FRICAT, 2: FRIICAT, 3: garon_combined, 4: Proctor\n",
    "catalog = 4\n",
    "\n",
    "if catalog == 0:\n",
    "    filepath = './Catalogs/CoNFIG.tsv'\n",
    "    data = pd.read_csv(filepath, sep='|', header=None, skiprows=3)\n",
    "    data = np.array(data)\n",
    "    ra, dec = data[:,0], data[:,1]\n",
    "    ra, dec = data[:,3], data[:,4]\n",
    "    print('Example (ra, dec) coords to pass into server:', ra[0], dec[0])\n",
    "    \n",
    "elif catalog in (1,2):\n",
    "    if catalog == 1: filepath = './Catalogs/FR1CAT.tsv'\n",
    "    if catalog == 2: filepath = './Catalogs/FR2CAT.tsv'\n",
    "    data = pd.read_csv(filepath, sep='|', header=None, skiprows=3)\n",
    "    data = np.array(data)\n",
    "    coords = data[:,0]\n",
    "\n",
    "    # Convert coordinates into format accepted by FIRST cutout server\n",
    "    ra, dec = np.empty_like(coords), np.empty_like(coords)\n",
    "    for i, coord in enumerate(coords):\n",
    "        ra[i] = coord[1:3]+' '+coord[3:5]+' '+coord[5:10]\n",
    "        dec[i] = coord[10:13]+' '+coord[13:15]+' '+coord[15:]\n",
    "    print('Example (ra, dec) coords to pass into server:', ra[0], dec[0])\n",
    "\n",
    "elif catalog == 3:\n",
    "    filepath = './Catalogs/garon_combined.tsv'\n",
    "    data = pd.read_csv(filepath, sep='|', header=None, skiprows=3)\n",
    "    data = np.array(data)\n",
    "    coords = data[:,2]\n",
    "\n",
    "    # Convert coordinates into format accepted by FIRST cutout server\n",
    "    ra, dec = np.empty_like(coords), np.empty_like(coords)\n",
    "    for i, coord in enumerate(coords):\n",
    "        ra[i] = coord[1:3]+' '+coord[3:5]+' '+coord[5:9]\n",
    "        dec[i] = coord[9:12]+' '+coord[12:14]+' '+coord[14:]\n",
    "    print('Example (ra, dec) coords to pass into server:', ra[0], dec[0])\n",
    "        \n",
    "elif catalog == 4:\n",
    "    filepath = './Catalogs/proctor_2011.tsv'\n",
    "    data = pd.read_csv(filepath, sep='|', header=None, skiprows=3)\n",
    "    data = np.array(data)\n",
    "    ra, dec = data[:,1], data[:,2]\n",
    "    \n",
    "    # Seperate into tables 1-14 for each morph type\n",
    "    table_ind = np.argwhere(data[:,8] != np.roll(data[:,8], 1)).flatten()\n",
    "    tables = np.split(data, table_ind[1:])\n",
    "    ra, dec = np.split(ra, table_ind[1:]), np.split(dec, table_ind[1:])\n",
    "    print('Example (ra, dec) coords to pass into server:', ra[0][0], dec[0][0])"
   ]
  },
  {
   "cell_type": "code",
   "execution_count": 30,
   "metadata": {},
   "outputs": [
    {
     "name": "stdout",
     "output_type": "stream",
     "text": [
      "Progress: [##########] 100.000% downloading images\n",
      "412/412 images downloaded in 571.230 seconds\n",
      "Missing images: []\n"
     ]
    }
   ],
   "source": [
    "# Download source images from cutout server\n",
    "# Only download WATs and NATs from Proctor catalog\n",
    "\n",
    "if catalog == 4:\n",
    "    FIRST_download(ra[0], dec[0], download_path=None)\n",
    "else:\n",
    "    FIRST_download(ra, dec, download_path=None)"
   ]
  }
 ],
 "metadata": {
  "kernelspec": {
   "display_name": "Python 3",
   "language": "python",
   "name": "python3"
  },
  "language_info": {
   "codemirror_mode": {
    "name": "ipython",
    "version": 3
   },
   "file_extension": ".py",
   "mimetype": "text/x-python",
   "name": "python",
   "nbconvert_exporter": "python",
   "pygments_lexer": "ipython3",
   "version": "3.7.4"
  }
 },
 "nbformat": 4,
 "nbformat_minor": 2
}
